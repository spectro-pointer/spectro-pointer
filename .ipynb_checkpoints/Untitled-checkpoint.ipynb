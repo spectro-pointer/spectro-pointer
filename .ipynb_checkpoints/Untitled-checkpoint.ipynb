{
 "cells": [
  {
   "cell_type": "code",
   "execution_count": 1,
   "metadata": {
    "collapsed": true
   },
   "outputs": [],
   "source": [
    "# -*- coding: utf-8 -*-\n",
    "\"\"\"\n",
    "Created on Sun Dec 17 19:55:21 2017\n",
    "\n",
    "@author: newho\n",
    "\"\"\"\n",
    "\n",
    "import numpy as np\n",
    "import glob\n",
    "from ipywidgets import interact, interactive, fixed, interact_manual\n",
    "import ipywidgets as widgets\n",
    "import matplotlib.pyplot as plt\n",
    "\n",
    "files = glob.glob('C:/Users/newho/Documents/spectro-pointer/captures/*/*Individual_Lights/*/*.txt')\n",
    "scores = np.loadtxt(files[0])\n",
    "xvals = scores[:,0]\n",
    "a = np.empty([scores.shape[0], len(files)])\n",
    "for i, file in enumerate(files):\n",
    "    scores = np.loadtxt(file)\n",
    "    a[:, i] = scores[:, 1]"
   ]
  },
  {
   "cell_type": "code",
   "execution_count": 3,
   "metadata": {},
   "outputs": [
    {
     "data": {
      "application/vnd.jupyter.widget-view+json": {
       "model_id": "bd2e16ced874419898f2d31769d8dd94"
      }
     },
     "metadata": {},
     "output_type": "display_data"
    },
    {
     "data": {
      "text/plain": [
       "<function __main__.plotter>"
      ]
     },
     "execution_count": 3,
     "metadata": {},
     "output_type": "execute_result"
    }
   ],
   "source": [
    "def plotter(index):\n",
    "    plt.plot(xvals, a[:, index])\n",
    "    plt.show()\n",
    "index_num = 0\n",
    "interact(plotter, index = index_num)"
   ]
  },
  {
   "cell_type": "code",
   "execution_count": null,
   "metadata": {
    "collapsed": true
   },
   "outputs": [],
   "source": []
  }
 ],
 "metadata": {
  "kernelspec": {
   "display_name": "Python 3",
   "language": "python",
   "name": "python3"
  },
  "language_info": {
   "codemirror_mode": {
    "name": "ipython",
    "version": 3
   },
   "file_extension": ".py",
   "mimetype": "text/x-python",
   "name": "python",
   "nbconvert_exporter": "python",
   "pygments_lexer": "ipython3",
   "version": "3.6.1"
  }
 },
 "nbformat": 4,
 "nbformat_minor": 2
}
