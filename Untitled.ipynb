{
 "cells": [
  {
   "cell_type": "code",
   "execution_count": 32,
   "metadata": {},
   "outputs": [
    {
     "name": "stdout",
     "output_type": "stream",
     "text": [
      "315 315\n"
     ]
    }
   ],
   "source": [
    "# -*- coding: utf-8 -*-\n",
    "\"\"\"\n",
    "Created on Sun Dec 17 19:55:21 2017\n",
    "\n",
    "@author: newho\n",
    "\"\"\"\n",
    "\n",
    "import numpy as np\n",
    "import glob\n",
    "from ipywidgets import interact, interactive, fixed, interact_manual\n",
    "import ipywidgets as widgets\n",
    "import matplotlib.pyplot as plt\n",
    "import matplotlib.image as mpim\n",
    "\n",
    "files = glob.glob('C:/Users/newho/Documents/spectro-pointer/captures/*/*Individual_Lights/*/*.txt')\n",
    "pictures = glob.glob('C:/Users/newho/Documents/spectro-pointer/captures/*/*Individual_Lights/*/*/*.png')\n",
    "print(len(files), len(pictures))\n",
    "scores = np.loadtxt(files[0])\n",
    "xvals = scores[:,0]\n",
    "a = np.empty([scores.shape[0], len(files)])\n",
    "for i, file in enumerate(files):\n",
    "    scores = np.loadtxt(file)\n",
    "    a[:, i] = scores[:, 1]"
   ]
  },
  {
   "cell_type": "code",
   "execution_count": 33,
   "metadata": {},
   "outputs": [
    {
     "name": "stdout",
     "output_type": "stream",
     "text": [
      "(2048, 315) (2048,)\n"
     ]
    },
    {
     "data": {
      "application/vnd.jupyter.widget-view+json": {
       "model_id": "cbc98f0a945e40c2b3249c1f26ba59ee"
      }
     },
     "metadata": {},
     "output_type": "display_data"
    },
    {
     "data": {
      "text/plain": [
       "<function __main__.plotter>"
      ]
     },
     "execution_count": 33,
     "metadata": {},
     "output_type": "execute_result"
    }
   ],
   "source": [
    "print(a.shape, xvals.shape)\n",
    "def plotter(index):\n",
    "    plt.plot(xvals, a[:, index])\n",
    "    plt.show()\n",
    "index_num = len(files) - 1\n",
    "interact(plotter, index = index_num)"
   ]
  },
  {
   "cell_type": "code",
   "execution_count": 34,
   "metadata": {},
   "outputs": [
    {
     "data": {
      "application/vnd.jupyter.widget-view+json": {
       "model_id": "78b3511bb4084b918a950fec976a68ee"
      }
     },
     "metadata": {},
     "output_type": "display_data"
    },
    {
     "data": {
      "text/plain": [
       "<function __main__.imageDisplay>"
      ]
     },
     "execution_count": 34,
     "metadata": {},
     "output_type": "execute_result"
    }
   ],
   "source": [
    "def imageDisplay(index):\n",
    "    plt.imshow(mpim.imread(pictures[index]))\n",
    "    plt.show()\n",
    "index_num = len(files) - 1\n",
    "interact(imageDisplay, index = index_num)"
   ]
  },
  {
   "cell_type": "code",
   "execution_count": null,
   "metadata": {
    "collapsed": true
   },
   "outputs": [],
   "source": []
  }
 ],
 "metadata": {
  "kernelspec": {
   "display_name": "Python 3",
   "language": "python",
   "name": "python3"
  },
  "language_info": {
   "codemirror_mode": {
    "name": "ipython",
    "version": 3
   },
   "file_extension": ".py",
   "mimetype": "text/x-python",
   "name": "python",
   "nbconvert_exporter": "python",
   "pygments_lexer": "ipython3",
   "version": "3.6.4"
  }
 },
 "nbformat": 4,
 "nbformat_minor": 2
}
