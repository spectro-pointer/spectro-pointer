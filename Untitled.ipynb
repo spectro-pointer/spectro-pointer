{
 "cells": [
  {
   "cell_type": "code",
   "execution_count": 25,
   "metadata": {},
   "outputs": [
    {
     "name": "stdout",
     "output_type": "stream",
     "text": [
      "245 245\n"
     ]
    }
   ],
   "source": [
    "# -*- coding: utf-8 -*-\n",
    "\"\"\"\n",
    "Created on Sun Dec 17 19:55:21 2017\n",
    "\n",
    "@author: newho\n",
    "\"\"\"\n",
    "\n",
    "import numpy as np\n",
    "import glob\n",
    "from ipywidgets import interact, interactive, fixed, interact_manual\n",
    "import ipywidgets as widgets\n",
    "import matplotlib.pyplot as plt\n",
    "import matplotlib.image as mpim\n",
    "\n",
    "files = glob.glob('C:/Users/newho/Documents/spectro-pointer/captures/*/*Individual_Lights/*/*.txt')\n",
    "pictures = glob.glob('C:/Users/newho/Documents/spectro-pointer/captures/*/*Individual_Lights/*/*/*.png')\n",
    "print(len(files), len(pictures))\n",
    "scores = np.loadtxt(files[0])\n",
    "xvals = scores[:,0]\n",
    "a = np.empty([scores.shape[0], len(files)])\n",
    "for i, file in enumerate(files):\n",
    "    scores = np.loadtxt(file)\n",
    "    a[:, i] = scores[:, 1]"
   ]
  },
  {
   "cell_type": "code",
   "execution_count": 19,
   "metadata": {},
   "outputs": [
    {
     "name": "stdout",
     "output_type": "stream",
     "text": [
      "(2048, 245) (2048,)\n"
     ]
    },
    {
     "data": {
      "application/vnd.jupyter.widget-view+json": {
       "model_id": "b4ea7dd5e62741ccba515947f7337973"
      }
     },
     "metadata": {},
     "output_type": "display_data"
    },
    {
     "data": {
      "text/plain": [
       "<function __main__.plotter>"
      ]
     },
     "execution_count": 19,
     "metadata": {},
     "output_type": "execute_result"
    }
   ],
   "source": [
    "print(a.shape, xvals.shape)\n",
    "def plotter(index):\n",
    "    plt.plot(xvals, a[:, index])\n",
    "    plt.show()\n",
    "index_num = len(files) - 1\n",
    "interact(plotter, index = index_num)"
   ]
  },
  {
   "cell_type": "code",
   "execution_count": 28,
   "metadata": {},
   "outputs": [
    {
     "data": {
      "application/vnd.jupyter.widget-view+json": {
       "model_id": "811555883ab144b9ba96ef5ca43f977e"
      }
     },
     "metadata": {},
     "output_type": "display_data"
    },
    {
     "data": {
      "text/plain": [
       "<function __main__.imageDisplay>"
      ]
     },
     "execution_count": 28,
     "metadata": {},
     "output_type": "execute_result"
    }
   ],
   "source": [
    "def imageDisplay(index):\n",
    "    plt.imshow(mpim.imread(pictures[index]))\n",
    "    plt.show()\n",
    "index_num = len(files) - 1\n",
    "interact(imageDisplay, index = index_num)"
   ]
  },
  {
   "cell_type": "code",
   "execution_count": null,
   "metadata": {
    "collapsed": true
   },
   "outputs": [],
   "source": []
  }
 ],
 "metadata": {
  "kernelspec": {
   "display_name": "Python 3",
   "language": "python",
   "name": "python3"
  },
  "language_info": {
   "codemirror_mode": {
    "name": "ipython",
    "version": 3
   },
   "file_extension": ".py",
   "mimetype": "text/x-python",
   "name": "python",
   "nbconvert_exporter": "python",
   "pygments_lexer": "ipython3",
   "version": "3.6.4"
  }
 },
 "nbformat": 4,
 "nbformat_minor": 2
}
